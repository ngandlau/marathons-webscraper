{
 "cells": [
  {
   "cell_type": "markdown",
   "id": "4632c957",
   "metadata": {},
   "source": [
    "## Scrapes Volksläufe from Runner's World Website\n",
    "\n",
    "Scrapes information from every Volkslauf listed on https://www.runnersworld.de/volkslaeufe-strassenlaeufe/"
   ]
  },
  {
   "cell_type": "code",
   "execution_count": 1,
   "id": "2ef1ef9e",
   "metadata": {},
   "outputs": [],
   "source": [
    "from autoscraper import AutoScraper"
   ]
  },
  {
   "cell_type": "code",
   "execution_count": 185,
   "id": "0b6d2476",
   "metadata": {},
   "outputs": [],
   "source": [
    "ex1 = (\n",
    "    \"https://www.runnersworld.de/laufkalender/badischemeilekarlsruhe/\",\n",
    "    [\n",
    "        \"Badische Meile Karlsruhe\",\n",
    "        \"Stadtlauf / Citylauf\", \"Volkslauf / Straßenlauf\",\n",
    "        \"08.05.2022\",\n",
    "        \"76136 Karlsruhe, Hermann-Veit-Straße 3\", \n",
    "        \"www.badischemeile.de\",\n",
    "        \"info@badischemeile.de\"\n",
    "    ]\n",
    ")\n",
    "\n",
    "ex2 = (\n",
    "    \"https://www.runnersworld.de/laufkalender/placentia-half-marathon/\",\n",
    "    [\n",
    "        \"Placentia Half Marathon\"\n",
    "        \"Stadtlauf / Citylauf\", \"Volkslauf / Straßenlauf\",\n",
    "        \"08.05.2022\",\n",
    "        \"03.05.2022\",\n",
    "        \"IT 29121 Piacenza, Palazzo Farnese\",\n",
    "        \"www.placentiahalfmarathon.org\",\n",
    "        \"info@placentiahalfmarathon.it\"\n",
    "    ]\n",
    ")\n",
    "\n",
    "ex3 = (\n",
    "    \"https://www.runnersworld.de/laufkalender/wings-for-life-world-run-muenchen/\",\n",
    "    [\n",
    "        \"Wings for Life World Run München\",\n",
    "        \"Volkslauf / Straßenlauf\",\n",
    "        \"Landschaftslauf\",\n",
    "        \"Spendenlauf / Charity-Lauf\",\n",
    "        \"08.05.2022\",\n",
    "        \"80809 München, Hans-Jochen-Vogel-Platz (Olympiapark/Nord)\",\n",
    "        \"www.wingsforlifeworldrun.com/de/locations/munich\"\n",
    "    ]\n",
    ")\n",
    "\n",
    "ex4 = (\n",
    "    \"https://www.runnersworld.de/laufkalender/lisbon-eco-marathon/\",\n",
    "    [\n",
    "        \"Lisbon Eco Marathon: abgesagt\",\n",
    "        \"Stadtlauf / Citylauf\", \"Volkslauf / Straßenlauf\",\n",
    "        \"08.05.2022\",\n",
    "        \"PT 1070-051 Lissabon, Parque Eduardo VII de Inglaterra\",\n",
    "        \"maratonadelisboa.pt\",\n",
    "        \"lisbonecomarathon@clubechronos.com\"\n",
    "    ]\n",
    ")\n",
    "\n",
    "data_train = [\n",
    "    ex1,\n",
    "    ex2, \n",
    "    ex3,\n",
    "    ex4\n",
    "]"
   ]
  },
  {
   "cell_type": "code",
   "execution_count": 86,
   "id": "17261fd4",
   "metadata": {},
   "outputs": [],
   "source": [
    "# training\n",
    "scraper = AutoScraper()\n",
    "for url, wanted_list in data_train:\n",
    "    scraper.build(url, wanted_list, update=True)"
   ]
  },
  {
   "cell_type": "code",
   "execution_count": 43,
   "id": "5c824672",
   "metadata": {},
   "outputs": [
    {
     "data": {
      "text/plain": [
       "[['möglichst viele km bis zum Kontakt mit Catcher Car',\n",
       "  '13.00 Uhr',\n",
       "  '49,00 - 59,00 Euro']]"
      ]
     },
     "execution_count": 43,
     "metadata": {},
     "output_type": "execute_result"
    }
   ],
   "source": [
    "# create a scraper for the tables...autoscraper can't handle varying tables\n",
    "import requests\n",
    "import csv\n",
    "from bs4 import BeautifulSoup\n",
    "\n",
    "# url = \"https://www.runnersworld.de/laufkalender/gutenbergmarathonmainz/\"\n",
    "# url = \"https://www.runnersworld.de/laufkalender/lissabonhalbmarathon/\"\n",
    "url = \"https://www.runnersworld.de/laufkalender/wings-for-life-world-run-muenchen/\"\n",
    "response = requests.get(url)\n",
    "html = response.content\n",
    "soup = BeautifulSoup(html)\n",
    "table = soup.find('table')\n",
    "\n",
    "list_rows = [] #make list for rows\n",
    "for row in table.findAll('tr')[1:]:\n",
    "    list_cells = [] #array for row\n",
    "    for cell in row.findAll('td'):\n",
    "        text = cell.text.replace('&nbsp;', '') #replace nonbreaking space\n",
    "        list_cells.append(text)\n",
    "    list_rows.append(list_cells)\n",
    "    \n",
    "list_rows"
   ]
  },
  {
   "cell_type": "code",
   "execution_count": 95,
   "id": "c51a75c2",
   "metadata": {},
   "outputs": [],
   "source": [
    "def scrape_table(url: str) -> list:\n",
    "    \"\"\"\n",
    "    Extracts the table from a runnersworld.de table, containing information\n",
    "    about the run. Returns a list of lists. Each inner list corresponds\n",
    "    to a row in the table. E.g a table with 2 rows and 3 cols will yield:\n",
    "    X = [[x11, x12, x13],\n",
    "         [x21, x21, x22]]\n",
    "    \"\"\"\n",
    "    response = requests.get(url)\n",
    "    html = response.content\n",
    "    soup = BeautifulSoup(html)\n",
    "    table = soup.find('table')\n",
    "\n",
    "    list_rows = [] #make list for rows\n",
    "    for row in table.findAll('tr')[1:]:\n",
    "        list_cells = [] #array for row\n",
    "        for cell in row.findAll('td'):\n",
    "            text = cell.text.replace('&nbsp;', '') #replace nonbreaking space\n",
    "            list_cells.append(text)\n",
    "        list_rows.append(list_cells)\n",
    "        \n",
    "    return list_rows"
   ]
  },
  {
   "cell_type": "code",
   "execution_count": 82,
   "id": "f1156f05",
   "metadata": {},
   "outputs": [
    {
     "data": {
      "text/plain": [
       "['https://www.runnersworld.de/laufkalender/altstadtlaufweinheim/',\n",
       " 'https://www.runnersworld.de/laufkalender/lissabonhalbmarathon/',\n",
       " 'https://www.runnersworld.de/laufkalender/seemeilebremerhaven/',\n",
       " 'https://www.runnersworld.de/laufkalender/badischemeilekarlsruhe/',\n",
       " 'https://www.runnersworld.de/laufkalender/20-km-de-lausanne/',\n",
       " 'https://www.runnersworld.de/laufkalender/neheimer-citylauf-arnsberg/',\n",
       " 'https://www.runnersworld.de/laufkalender/wings-for-life-world-run-schweiz/',\n",
       " 'https://www.runnersworld.de/laufkalender/saarbrueckener-city-lauf/',\n",
       " 'https://www.runnersworld.de/laufkalender/lisbon-eco-marathon/',\n",
       " 'https://www.runnersworld.de/laufkalender/wings-for-life-world-run-muenchen/',\n",
       " 'https://www.runnersworld.de/laufkalender/heilbronnertrollingermarathon/',\n",
       " 'https://www.runnersworld.de/laufkalender/duathlon-krailling/',\n",
       " 'https://www.runnersworld.de/laufkalender/rahlstedterwandselaufhamburg/',\n",
       " 'https://www.runnersworld.de/laufkalender/barcelona-marathon/',\n",
       " 'https://www.runnersworld.de/laufkalender/pragmarathon/',\n",
       " 'https://www.runnersworld.de/laufkalender/altstadtlaufgoslar/',\n",
       " 'https://www.runnersworld.de/laufkalender/windhagenmarathon/',\n",
       " 'https://www.runnersworld.de/laufkalender/placentia-half-marathon/',\n",
       " 'https://www.runnersworld.de/laufkalender/triest-halbmarathon/',\n",
       " 'https://www.runnersworld.de/laufkalender/schermbeckervolksundstrassenlauf/',\n",
       " 'https://www.runnersworld.de/laufkalender/stwendelmarathon/',\n",
       " 'https://www.runnersworld.de/laufkalender/bitterfeldergoitzschemarathon/',\n",
       " 'https://www.runnersworld.de/laufkalender/great-breweries-marathon-puurs/',\n",
       " 'https://www.runnersworld.de/laufkalender/gutenbergmarathonmainz/',\n",
       " 'https://www.runnersworld.de/laufkalender/santiago-marathon/',\n",
       " 'https://www.runnersworld.de/laufkalender/i-run-achim/',\n",
       " 'https://www.runnersworld.de/laufkalender/traunsteiner-halbmarathon/',\n",
       " 'https://www.runnersworld.de/laufkalender/niebueller-stadtlauf/',\n",
       " 'https://www.runnersworld.de/laufkalender/muelheimer-firmenlauf/',\n",
       " 'https://www.runnersworld.de/laufkalender/salzburger-frauenlauf/']"
      ]
     },
     "execution_count": 82,
     "metadata": {},
     "output_type": "execute_result"
    }
   ],
   "source": [
    "# extract the links of the runs from https://www.runnersworld.de/volkslaeufe-strassenlaeufe/\n",
    "url = \"https://www.runnersworld.de/volkslaeufe-strassenlaeufe/\"\n",
    "response = requests.get(url)\n",
    "html = response.content\n",
    "soup = BeautifulSoup(html)\n",
    "table = soup.find('table')\n",
    "\n",
    "links = []\n",
    "for link in soup.findAll('a'):\n",
    "    l = link.get('href')\n",
    "    if l is None:\n",
    "        continue\n",
    "    if \"laufkalender\" in l:\n",
    "        # clean\n",
    "        if \"laufeintragen\" in l:\n",
    "            continue\n",
    "        if l == 'https://www.runnersworld.de/laufkalender/':\n",
    "            continue\n",
    "        links.append(l)    \n",
    "links"
   ]
  },
  {
   "cell_type": "code",
   "execution_count": 84,
   "id": "10d57623",
   "metadata": {},
   "outputs": [
    {
     "data": {
      "text/plain": [
       "'https://www.runnersworld.de/laufkalender/salzburger-frauenlauf'"
      ]
     },
     "execution_count": 84,
     "metadata": {},
     "output_type": "execute_result"
    }
   ],
   "source": [
    "# # remove everything after the 5th \"/\"\n",
    "# import re\n",
    "# pattern = \".+\"\n",
    "# test_string = 'https://www.runnersworld.de/laufkalender/salzburger-frauenlauf/'\n",
    "# ls = test_string.split(\"/\")\n",
    "# clean_string = \"/\".join(ls[:5])\n",
    "# clean_string    "
   ]
  },
  {
   "cell_type": "code",
   "execution_count": 96,
   "id": "9fe8ee76",
   "metadata": {},
   "outputs": [],
   "source": [
    "# go through each link and extract information\n",
    "volkslaeufe = {}\n",
    "for url in links:\n",
    "    info = scraper.get_result_similar(url)\n",
    "    tbl = scrape_table(url)\n",
    "    volkslaeufe[url] = [info, tbl]"
   ]
  },
  {
   "cell_type": "code",
   "execution_count": 177,
   "id": "9dc58641",
   "metadata": {},
   "outputs": [],
   "source": [
    "# clean the extracted information\n",
    "def remove_multiple_titles(autoscraper_result):\n",
    "    \"\"\"\n",
    "    Sometimes the title of the run is captured 2 or 3 times in different variations\n",
    "    # example 1:\n",
    "        # 'Bitterfelder Goitzsche-Marathon',\n",
    "        # 'Goitzsche-Marathon Bitterfeld',\n",
    "        # ': Goitzsche-Marathon Bitterfeld',\n",
    "    # example 2\n",
    "        # 'Seemeile Bremerhaven',\n",
    "        # ': Seemeile Bremerhaven',\n",
    "    # example 3\n",
    "        # 'Wings for Life World Run Schweiz',\n",
    "        # ': Wings for Life World Run Schweiz',\n",
    "    # example 4\n",
    "        # 'Heilbronner Trollinger-Marathon',\n",
    "        # ': Heilbronner Trollinger-Marathon'\n",
    "    \"\"\"\n",
    "    x = autoscraper_result\n",
    "    substrings = x[0].split()\n",
    "    for sub in substrings:\n",
    "        if sub in x[2]:\n",
    "            x.pop(2)\n",
    "            x.pop(1)\n",
    "            break\n",
    "        if sub in x[1]:\n",
    "            x.pop(1)\n",
    "            break\n",
    "    return x\n",
    "\n",
    "for key, val in volkslaeufe.items():\n",
    "    autoscraper_result = val[0]\n",
    "    if \"StatischeSeiten\" in autoscraper_result:\n",
    "        autoscraper_result.remove(\"StatischeSeiten\")\n",
    "    volkslaeufe[key][0] = remove_multiple_titles(autoscraper_result)"
   ]
  },
  {
   "cell_type": "code",
   "execution_count": 184,
   "id": "3718bbd5",
   "metadata": {},
   "outputs": [
    {
     "data": {
      "text/plain": [
       "[['Badische Meile Karlsruhe',\n",
       "  'Stadtlauf / Citylauf',\n",
       "  'Volkslauf / Straßenlauf',\n",
       "  '08.05.2022',\n",
       "  '76135 Karlsruhe, Hermann-Veit-Straße 3',\n",
       "  'www.badischemeile.de',\n",
       "  'info@badischemeile.de'],\n",
       " [['8,888 km ', '10.30 Uhr', '22,00 - 25,00 Euro']]]"
      ]
     },
     "execution_count": 184,
     "metadata": {},
     "output_type": "execute_result"
    }
   ],
   "source": [
    "i = np.random.randint(len(volkslaeufe))\n",
    "volkslaeufe[list(volkslaeufe.keys())[i]]"
   ]
  }
 ],
 "metadata": {
  "kernelspec": {
   "display_name": "Python 3",
   "language": "python",
   "name": "python3"
  },
  "language_info": {
   "codemirror_mode": {
    "name": "ipython",
    "version": 3
   },
   "file_extension": ".py",
   "mimetype": "text/x-python",
   "name": "python",
   "nbconvert_exporter": "python",
   "pygments_lexer": "ipython3",
   "version": "3.8.10"
  }
 },
 "nbformat": 4,
 "nbformat_minor": 5
}
