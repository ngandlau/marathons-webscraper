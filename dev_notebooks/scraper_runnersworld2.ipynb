{
 "cells": [
  {
   "cell_type": "code",
   "execution_count": 1,
   "metadata": {},
   "outputs": [],
   "source": [
    "from bs4 import BeautifulSoup\n",
    "import requests\n",
    "import pandas as pd"
   ]
  },
  {
   "cell_type": "code",
   "execution_count": 3,
   "metadata": {},
   "outputs": [
    {
     "data": {
      "text/plain": [
       "['https://www.runnersworld.de/volkslaeufe-strassenlaeufe/',\n",
       " 'https://www.runnersworld.de/volkslaeufe-strassenlaeufe/?p=1',\n",
       " 'https://www.runnersworld.de/volkslaeufe-strassenlaeufe/?p=2',\n",
       " 'https://www.runnersworld.de/volkslaeufe-strassenlaeufe/?p=3',\n",
       " 'https://www.runnersworld.de/volkslaeufe-strassenlaeufe/?p=4',\n",
       " 'https://www.runnersworld.de/volkslaeufe-strassenlaeufe/?p=5',\n",
       " 'https://www.runnersworld.de/volkslaeufe-strassenlaeufe/?p=6',\n",
       " 'https://www.runnersworld.de/volkslaeufe-strassenlaeufe/?p=7',\n",
       " 'https://www.runnersworld.de/volkslaeufe-strassenlaeufe/?p=8',\n",
       " 'https://www.runnersworld.de/volkslaeufe-strassenlaeufe/?p=9',\n",
       " 'https://www.runnersworld.de/volkslaeufe-strassenlaeufe/?p=10',\n",
       " 'https://www.runnersworld.de/volkslaeufe-strassenlaeufe/?p=11',\n",
       " 'https://www.runnersworld.de/volkslaeufe-strassenlaeufe/?p=12',\n",
       " 'https://www.runnersworld.de/volkslaeufe-strassenlaeufe/?p=13',\n",
       " 'https://www.runnersworld.de/volkslaeufe-strassenlaeufe/?p=14',\n",
       " 'https://www.runnersworld.de/volkslaeufe-strassenlaeufe/?p=15',\n",
       " 'https://www.runnersworld.de/volkslaeufe-strassenlaeufe/?p=16']"
      ]
     },
     "execution_count": 3,
     "metadata": {},
     "output_type": "execute_result"
    }
   ],
   "source": [
    "# pages of main url\n",
    "url = 'https://www.runnersworld.de/volkslaeufe-strassenlaeufe/'\n",
    "response = requests.get(url)\n",
    "html = response.content\n",
    "soup = BeautifulSoup(html, features=\"lxml\")\n",
    "\n",
    "max_page = soup.findAll('a', class_=\"v-A_-button v-A_-button--medium v-A_-button--mediumgrey\")[-1].text\n",
    "max_page = float(max_page.strip())\n",
    "max_page\n",
    "\n",
    "pages = []\n",
    "pages.append(url)\n",
    "for i in range(int(max_page)):\n",
    "    url = 'https://www.runnersworld.de/volkslaeufe-strassenlaeufe/?p=' + str(i+1)\n",
    "    pages.append(url)\n",
    "pages"
   ]
  },
  {
   "cell_type": "markdown",
   "metadata": {},
   "source": [
    "## A single run"
   ]
  },
  {
   "cell_type": "code",
   "execution_count": 81,
   "metadata": {},
   "outputs": [],
   "source": [
    "url = \"https://www.runnersworld.de/laufkalender/johanniterlaufleuggern/\"\n",
    "url = \"https://www.runnersworld.de/laufkalender/5-k-race-day-refrath/\"\n",
    "response = requests.get(url)\n",
    "html = response.content\n",
    "soup = BeautifulSoup(html)"
   ]
  },
  {
   "cell_type": "code",
   "execution_count": 89,
   "metadata": {},
   "outputs": [
    {
     "data": {
      "text/plain": [
       "'5k Race Day Refrath'"
      ]
     },
     "execution_count": 89,
     "metadata": {},
     "output_type": "execute_result"
    }
   ],
   "source": [
    "name = soup.find('span', class_='v-A_-headline v-A_-headline__article--alpha').text\n",
    "name"
   ]
  },
  {
   "cell_type": "code",
   "execution_count": 90,
   "metadata": {},
   "outputs": [
    {
     "data": {
      "text/plain": [
       "'26.05.2022'"
      ]
     },
     "execution_count": 90,
     "metadata": {},
     "output_type": "execute_result"
    }
   ],
   "source": [
    "# date of run\n",
    "date = soup.find('div', class_='v-A_-appointment').find('span').text\n",
    "date"
   ]
  },
  {
   "cell_type": "code",
   "execution_count": 91,
   "metadata": {},
   "outputs": [
    {
     "data": {
      "text/plain": [
       "'www.5k-raceday.de'"
      ]
     },
     "execution_count": 91,
     "metadata": {},
     "output_type": "execute_result"
    }
   ],
   "source": [
    "# website\n",
    "website = soup.find('div', class_='v-A_-information v-A_-connection').find('a').text\n",
    "website"
   ]
  },
  {
   "cell_type": "code",
   "execution_count": 92,
   "metadata": {},
   "outputs": [
    {
     "data": {
      "text/plain": [
       "'51427  Bergisch Gladbach, Willhelm-Klein-Str 18-20 (Refrath)'"
      ]
     },
     "execution_count": 92,
     "metadata": {},
     "output_type": "execute_result"
    }
   ],
   "source": [
    "location = soup.find('div', class_='v-A_-information v-A_-location').find('span').text\n",
    "location = location.strip('\\n')\n",
    "location"
   ]
  },
  {
   "cell_type": "code",
   "execution_count": 105,
   "metadata": {},
   "outputs": [
    {
     "data": {
      "text/plain": [
       "[['5 km Männer', '13.15 Uhr', '15,00 - 18,00 Euro'],\n",
       " ['5 km Frauen', '13.45 Uhr', '15,00 - 18,00 Euro']]"
      ]
     },
     "execution_count": 105,
     "metadata": {},
     "output_type": "execute_result"
    }
   ],
   "source": [
    "def scrape_table(soup):\n",
    "    table = soup.find('table')\n",
    "\n",
    "    rows = [] #make list for rows\n",
    "    for row in table.findAll('tr'):\n",
    "        list_cells = [] # array for row\n",
    "        for cell in row.findAll('td'):\n",
    "            text = cell.text.replace('&nbsp;', '') #replace nonbreaking space\n",
    "            text = text.strip()\n",
    "            list_cells.append(text)\n",
    "        if len(list_cells) > 0:\n",
    "            rows.append(list_cells)\n",
    "    return rows\n",
    "\n",
    "tbl = scrape_table(soup=soup)\n",
    "tbl"
   ]
  },
  {
   "cell_type": "code",
   "execution_count": 96,
   "metadata": {},
   "outputs": [
    {
     "data": {
      "text/html": [
       "<div>\n",
       "<style scoped>\n",
       "    .dataframe tbody tr th:only-of-type {\n",
       "        vertical-align: middle;\n",
       "    }\n",
       "\n",
       "    .dataframe tbody tr th {\n",
       "        vertical-align: top;\n",
       "    }\n",
       "\n",
       "    .dataframe thead th {\n",
       "        text-align: right;\n",
       "    }\n",
       "</style>\n",
       "<table border=\"1\" class=\"dataframe\">\n",
       "  <thead>\n",
       "    <tr style=\"text-align: right;\">\n",
       "      <th></th>\n",
       "      <th>distance</th>\n",
       "      <th>start_time</th>\n",
       "      <th>price</th>\n",
       "    </tr>\n",
       "  </thead>\n",
       "  <tbody>\n",
       "    <tr>\n",
       "      <th>0</th>\n",
       "      <td>5 km Männer</td>\n",
       "      <td>13.15 Uhr</td>\n",
       "      <td>15,00 - 18,00 Euro</td>\n",
       "    </tr>\n",
       "    <tr>\n",
       "      <th>1</th>\n",
       "      <td>5 km Frauen</td>\n",
       "      <td>13.45 Uhr</td>\n",
       "      <td>15,00 - 18,00 Euro</td>\n",
       "    </tr>\n",
       "  </tbody>\n",
       "</table>\n",
       "</div>"
      ],
      "text/plain": [
       "      distance start_time               price\n",
       "0  5 km Männer  13.15 Uhr  15,00 - 18,00 Euro\n",
       "1  5 km Frauen  13.45 Uhr  15,00 - 18,00 Euro"
      ]
     },
     "execution_count": 96,
     "metadata": {},
     "output_type": "execute_result"
    }
   ],
   "source": [
    "df = pd.DataFrame(tbl, columns=['distance', 'start_time', 'price'])\n",
    "df.to_dict\n",
    "df"
   ]
  },
  {
   "cell_type": "code",
   "execution_count": 103,
   "metadata": {},
   "outputs": [
    {
     "data": {
      "text/plain": [
       "{'distance': {0: '5 Männer', 1: '5 Frauen'},\n",
       " 'start_time': {0: '13.15 Uhr', 1: '13.45 Uhr'},\n",
       " 'price': {0: '15,00 - 18,00 Euro', 1: '15,00 - 18,00 Euro'}}"
      ]
     },
     "execution_count": 103,
     "metadata": {},
     "output_type": "execute_result"
    }
   ],
   "source": [
    "# df['distance'] = df['distance'].str.replace(',', '.')\n",
    "# df['distance'] = df['distance'].str.replace(' km', '')\n",
    "# # df['distance'] = df['distance'].astype(float)\n",
    "df.to_dict()\n"
   ]
  },
  {
   "cell_type": "code",
   "execution_count": null,
   "metadata": {},
   "outputs": [
    {
     "data": {
      "text/html": [
       "<div>\n",
       "<style scoped>\n",
       "    .dataframe tbody tr th:only-of-type {\n",
       "        vertical-align: middle;\n",
       "    }\n",
       "\n",
       "    .dataframe tbody tr th {\n",
       "        vertical-align: top;\n",
       "    }\n",
       "\n",
       "    .dataframe thead th {\n",
       "        text-align: right;\n",
       "    }\n",
       "</style>\n",
       "<table border=\"1\" class=\"dataframe\">\n",
       "  <thead>\n",
       "    <tr style=\"text-align: right;\">\n",
       "      <th></th>\n",
       "      <th>distance</th>\n",
       "      <th>start_time</th>\n",
       "      <th>price</th>\n",
       "      <th>currency</th>\n",
       "    </tr>\n",
       "  </thead>\n",
       "  <tbody>\n",
       "    <tr>\n",
       "      <th>0</th>\n",
       "      <td>6.50</td>\n",
       "      <td>10.00 Uhr</td>\n",
       "      <td>25.00</td>\n",
       "      <td>CHF</td>\n",
       "    </tr>\n",
       "    <tr>\n",
       "      <th>1</th>\n",
       "      <td>1.06</td>\n",
       "      <td>15.00 Uhr</td>\n",
       "      <td>0.00</td>\n",
       "      <td>CHF</td>\n",
       "    </tr>\n",
       "    <tr>\n",
       "      <th>2</th>\n",
       "      <td>0.53</td>\n",
       "      <td>ab 13.40 Uhr</td>\n",
       "      <td>0.00</td>\n",
       "      <td>CHF</td>\n",
       "    </tr>\n",
       "    <tr>\n",
       "      <th>3</th>\n",
       "      <td>0.30</td>\n",
       "      <td>ab 13.00 Uhr</td>\n",
       "      <td>0.00</td>\n",
       "      <td>CHF</td>\n",
       "    </tr>\n",
       "  </tbody>\n",
       "</table>\n",
       "</div>"
      ],
      "text/plain": [
       "   distance    start_time  price currency\n",
       "0      6.50     10.00 Uhr  25.00      CHF\n",
       "1      1.06     15.00 Uhr   0.00      CHF\n",
       "2      0.53  ab 13.40 Uhr   0.00      CHF\n",
       "3      0.30  ab 13.00 Uhr   0.00      CHF"
      ]
     },
     "execution_count": 70,
     "metadata": {},
     "output_type": "execute_result"
    }
   ],
   "source": [
    "currency = df.price[0].split(' ')[1]\n",
    "\n",
    "df['price'] = df['price'].str.replace(' ' + currency, '')\n",
    "df['price'] = df['price'].str.replace(',', '.')\n",
    "df['currency'] = currency\n",
    "df"
   ]
  },
  {
   "cell_type": "code",
   "execution_count": null,
   "metadata": {},
   "outputs": [
    {
     "data": {
      "text/plain": [
       "(0.3, 6.5)"
      ]
     },
     "execution_count": 72,
     "metadata": {},
     "output_type": "execute_result"
    }
   ],
   "source": [
    "min_distance, max_distance = df.distance.min(), df.distance.max()\n",
    "min_distance, max_distance"
   ]
  },
  {
   "cell_type": "code",
   "execution_count": null,
   "metadata": {},
   "outputs": [
    {
     "data": {
      "text/plain": [
       "('0.00', '25.00')"
      ]
     },
     "execution_count": 73,
     "metadata": {},
     "output_type": "execute_result"
    }
   ],
   "source": [
    "min_price, max_price = df.price.min(), df.price.max()\n",
    "min_price, max_price\n"
   ]
  },
  {
   "cell_type": "code",
   "execution_count": 106,
   "metadata": {},
   "outputs": [
    {
     "data": {
      "text/plain": [
       "{'name': '5k Race Day Refrath',\n",
       " 'date': '26.05.2022',\n",
       " 'website': 'www.5k-raceday.de',\n",
       " 'location': '51427  Bergisch Gladbach, Willhelm-Klein-Str 18-20 (Refrath)',\n",
       " 'run_info': [['5 km Männer', '13.15 Uhr', '15,00 - 18,00 Euro'],\n",
       "  ['5 km Frauen', '13.45 Uhr', '15,00 - 18,00 Euro']]}"
      ]
     },
     "execution_count": 106,
     "metadata": {},
     "output_type": "execute_result"
    }
   ],
   "source": [
    "data_run = {\n",
    "    'name' : name,\n",
    "    'date' : date,\n",
    "    'website' : website,\n",
    "    'location' : location,\n",
    "    'run_info' : tbl\n",
    "    # 'min_price' : min_price,\n",
    "    # 'max_price' : max_price,\n",
    "    # 'currency' : currency,\n",
    "    # 'min_distance' : min_distance,\n",
    "    # 'max_distance' : max_distance\n",
    "}\n",
    "\n",
    "data_run"
   ]
  },
  {
   "cell_type": "markdown",
   "metadata": {},
   "source": [
    "## Multiple runs"
   ]
  },
  {
   "cell_type": "code",
   "execution_count": null,
   "metadata": {},
   "outputs": [],
   "source": []
  }
 ],
 "metadata": {
  "interpreter": {
   "hash": "916dbcbb3f70747c44a77c7bcd40155683ae19c65e1c03b4aa3499c5328201f1"
  },
  "kernelspec": {
   "display_name": "Python 3.8.10 64-bit",
   "language": "python",
   "name": "python3"
  },
  "language_info": {
   "codemirror_mode": {
    "name": "ipython",
    "version": 3
   },
   "file_extension": ".py",
   "mimetype": "text/x-python",
   "name": "python",
   "nbconvert_exporter": "python",
   "pygments_lexer": "ipython3",
   "version": "3.8.10"
  },
  "orig_nbformat": 4
 },
 "nbformat": 4,
 "nbformat_minor": 2
}
