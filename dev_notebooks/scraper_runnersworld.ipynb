{
 "cells": [
  {
   "cell_type": "markdown",
   "id": "4632c957",
   "metadata": {},
   "source": [
    "## Scrapes Volksläufe from Runner's World Website\n",
    "\n",
    "Scrapes information from every Volkslauf listed on https://www.runnersworld.de/volkslaeufe-strassenlaeufe/"
   ]
  },
  {
   "cell_type": "code",
   "execution_count": 1,
   "id": "2ef1ef9e",
   "metadata": {},
   "outputs": [],
   "source": [
    "from autoscraper import AutoScraper"
   ]
  },
  {
   "cell_type": "code",
   "execution_count": 2,
   "id": "0b6d2476",
   "metadata": {},
   "outputs": [],
   "source": [
    "ex1 = (\n",
    "    \"https://www.runnersworld.de/laufkalender/badischemeilekarlsruhe/\",\n",
    "    [\n",
    "        \"Badische Meile Karlsruhe\",\n",
    "        # \"Stadtlauf / Citylauf\", \"Volkslauf / Straßenlauf\",\n",
    "        \"08.05.2022\",\n",
    "        \"76136 Karlsruhe, Hermann-Veit-Straße 3\", \n",
    "        \"www.badischemeile.de\",\n",
    "        \"info@badischemeile.de\"\n",
    "    ]\n",
    ")\n",
    "\n",
    "ex2 = (\n",
    "    \"https://www.runnersworld.de/laufkalender/placentia-half-marathon/\",\n",
    "    [\n",
    "        \"Placentia Half Marathon\"\n",
    "        # \"Stadtlauf / Citylauf\", \"Volkslauf / Straßenlauf\",\n",
    "        \"08.05.2022\",\n",
    "        \"03.05.2022\",\n",
    "        \"IT 29121 Piacenza, Palazzo Farnese\",\n",
    "        \"www.placentiahalfmarathon.org\",\n",
    "        \"info@placentiahalfmarathon.it\"\n",
    "    ]\n",
    ")\n",
    "\n",
    "ex3 = (\n",
    "    \"https://www.runnersworld.de/laufkalender/wings-for-life-world-run-muenchen/\",\n",
    "    [\n",
    "        \"Wings for Life World Run München\",\n",
    "        \"Volkslauf / Straßenlauf\",\n",
    "        \"Landschaftslauf\",\n",
    "        \"Spendenlauf / Charity-Lauf\",\n",
    "        \"08.05.2022\",\n",
    "        \"80809 München, Hans-Jochen-Vogel-Platz (Olympiapark/Nord)\",\n",
    "        \"www.wingsforlifeworldrun.com/de/locations/munich\"\n",
    "    ]\n",
    ")\n",
    "\n",
    "ex4 = (\n",
    "    \"https://www.runnersworld.de/laufkalender/lisbon-eco-marathon/\",\n",
    "    [\n",
    "        \"Lisbon Eco Marathon: abgesagt\",\n",
    "        \"Stadtlauf / Citylauf\", \"Volkslauf / Straßenlauf\",\n",
    "        \"08.05.2022\",\n",
    "        \"PT 1070-051 Lissabon, Parque Eduardo VII de Inglaterra\",\n",
    "        \"maratonadelisboa.pt\",\n",
    "        \"lisbonecomarathon@clubechronos.com\"\n",
    "    ]\n",
    ")\n",
    "\n",
    "data_train = [\n",
    "    ex1,\n",
    "    ex2, \n",
    "    ex3,\n",
    "    ex4\n",
    "]"
   ]
  },
  {
   "cell_type": "code",
   "execution_count": 3,
   "id": "17261fd4",
   "metadata": {},
   "outputs": [],
   "source": [
    "# training\n",
    "scraper = AutoScraper()\n",
    "for url, wanted_list in data_train:\n",
    "    scraper.build(url, wanted_list, update=True)"
   ]
  },
  {
   "cell_type": "code",
   "execution_count": 56,
   "id": "5c824672",
   "metadata": {},
   "outputs": [
    {
     "data": {
      "text/html": [
       "<div>\n",
       "<style scoped>\n",
       "    .dataframe tbody tr th:only-of-type {\n",
       "        vertical-align: middle;\n",
       "    }\n",
       "\n",
       "    .dataframe tbody tr th {\n",
       "        vertical-align: top;\n",
       "    }\n",
       "\n",
       "    .dataframe thead th {\n",
       "        text-align: right;\n",
       "    }\n",
       "</style>\n",
       "<table border=\"1\" class=\"dataframe\">\n",
       "  <thead>\n",
       "    <tr style=\"text-align: right;\">\n",
       "      <th></th>\n",
       "      <th>distanz</th>\n",
       "      <th>startzeit</th>\n",
       "      <th>startgebuehr</th>\n",
       "    </tr>\n",
       "  </thead>\n",
       "  <tbody>\n",
       "    <tr>\n",
       "      <th>0</th>\n",
       "      <td>12.1</td>\n",
       "      <td>11.10</td>\n",
       "      <td>15.00 - 23.00</td>\n",
       "    </tr>\n",
       "    <tr>\n",
       "      <th>1</th>\n",
       "      <td>5.3</td>\n",
       "      <td>11.00</td>\n",
       "      <td>15.00 - 23.00</td>\n",
       "    </tr>\n",
       "  </tbody>\n",
       "</table>\n",
       "</div>"
      ],
      "text/plain": [
       "  distanz startzeit   startgebuehr\n",
       "0   12.1      11.10  15.00 - 23.00\n",
       "1    5.3      11.00  15.00 - 23.00"
      ]
     },
     "execution_count": 56,
     "metadata": {},
     "output_type": "execute_result"
    }
   ],
   "source": [
    "# create a scraper for the tables...autoscraper can't handle varying tables\n",
    "import requests\n",
    "import csv\n",
    "from bs4 import BeautifulSoup\n",
    "import pandas as pd\n",
    "\n",
    "# url = \"https://www.runnersworld.de/laufkalender/gutenbergmarathonmainz/\"\n",
    "# url = \"https://www.runnersworld.de/laufkalender/lissabonhalbmarathon/\"\n",
    "# url = \"https://www.runnersworld.de/laufkalender/wings-for-life-world-run-muenchen/\"\n",
    "url = \"https://www.runnersworld.de/laufkalender/schweinelauf-wuelfrath/\"\n",
    "response = requests.get(url)\n",
    "html = response.content\n",
    "soup = BeautifulSoup(html)\n",
    "table = soup.find('table')\n",
    "\n",
    "list_rows = [] #make list for rows\n",
    "for row in table.findAll('tr'):\n",
    "    list_cells = [] # array for row\n",
    "    for cell in row.findAll(['td', 'th']):\n",
    "        text = cell.text.replace('&nbsp;', '') #replace nonbreaking space\n",
    "        \n",
    "        # clean\n",
    "        text = text.replace('ü', 'ue')\n",
    "        text = text.replace(' Euro', '')\n",
    "        text = text.replace(' km', '')\n",
    "        text = text.replace(' Uhr', '')\n",
    "        text = text.replace(',', '.')\n",
    "        text = text.lower()\n",
    "\n",
    "        list_cells.append(text)\n",
    "    list_rows.append(list_cells)\n",
    "    \n",
    "df = pd.DataFrame(list_rows[1:], columns=list_rows[0])\n",
    "df"
   ]
  },
  {
   "cell_type": "code",
   "execution_count": 57,
   "id": "a8633659",
   "metadata": {},
   "outputs": [
    {
     "data": {
      "text/html": [
       "<div>\n",
       "<style scoped>\n",
       "    .dataframe tbody tr th:only-of-type {\n",
       "        vertical-align: middle;\n",
       "    }\n",
       "\n",
       "    .dataframe tbody tr th {\n",
       "        vertical-align: top;\n",
       "    }\n",
       "\n",
       "    .dataframe thead th {\n",
       "        text-align: right;\n",
       "    }\n",
       "</style>\n",
       "<table border=\"1\" class=\"dataframe\">\n",
       "  <thead>\n",
       "    <tr style=\"text-align: right;\">\n",
       "      <th></th>\n",
       "      <th>distanz</th>\n",
       "      <th>startzeit</th>\n",
       "      <th>startgebuehr_min</th>\n",
       "      <th>startgebuehr_max</th>\n",
       "    </tr>\n",
       "  </thead>\n",
       "  <tbody>\n",
       "    <tr>\n",
       "      <th>0</th>\n",
       "      <td>12.1</td>\n",
       "      <td>11.10</td>\n",
       "      <td>15.00</td>\n",
       "      <td>23.00</td>\n",
       "    </tr>\n",
       "    <tr>\n",
       "      <th>1</th>\n",
       "      <td>5.3</td>\n",
       "      <td>11.00</td>\n",
       "      <td>15.00</td>\n",
       "      <td>23.00</td>\n",
       "    </tr>\n",
       "  </tbody>\n",
       "</table>\n",
       "</div>"
      ],
      "text/plain": [
       "  distanz startzeit startgebuehr_min startgebuehr_max\n",
       "0   12.1      11.10            15.00            23.00\n",
       "1    5.3      11.00            15.00            23.00"
      ]
     },
     "execution_count": 57,
     "metadata": {},
     "output_type": "execute_result"
    }
   ],
   "source": [
    "# clean df\n",
    "def split_startgebuehr(x: pd.Series) -> pd.DataFrame:\n",
    "    x = x.str.split(' - ').to_list()\n",
    "    return pd.DataFrame(x, columns=['startgebuehr_min', 'startgebuehr_max'])\n",
    "\n",
    "def append_minmax_startgebuehr(df, df_startgebuehr):\n",
    "    df['startgebuehr_min'] = df_startgebuehr['startgebuehr_min']\n",
    "    df['startgebuehr_max'] = df_startgebuehr['startgebuehr_max']\n",
    "    df.drop('startgebuehr', axis=1, inplace=True) \n",
    "    return df\n",
    "\n",
    "df_startgebuehr = split_startgebuehr(df['startgebuehr'])\n",
    "df = append_minmax_startgebuehr(df, df_startgebuehr)\n",
    "df "
   ]
  },
  {
   "cell_type": "code",
   "execution_count": 67,
   "id": "1dec0370",
   "metadata": {},
   "outputs": [
    {
     "name": "stdout",
     "output_type": "stream",
     "text": [
      "   distanz startzeit  startgebuehr_min  startgebuehr_max\n",
      "0     12.1     11:10              15.0              23.0\n",
      "1      5.3     11:00              15.0              23.0\n",
      "\n",
      "<class 'pandas.core.frame.DataFrame'>\n",
      "RangeIndex: 2 entries, 0 to 1\n",
      "Data columns (total 4 columns):\n",
      " #   Column            Non-Null Count  Dtype  \n",
      "---  ------            --------------  -----  \n",
      " 0   distanz           2 non-null      float64\n",
      " 1   startzeit         2 non-null      object \n",
      " 2   startgebuehr_min  2 non-null      float64\n",
      " 3   startgebuehr_max  2 non-null      float64\n",
      "dtypes: float64(3), object(1)\n",
      "memory usage: 192.0+ bytes\n"
     ]
    }
   ],
   "source": [
    "df['startgebuehr_min'] = df['startgebuehr_min'].astype(float)\n",
    "df['startgebuehr_max'] = df['startgebuehr_max'].astype(float)\n",
    "df['distanz'] = df['distanz'].astype(float)\n",
    "df['startzeit'] = df['startzeit'].str.replace('.', ':', regex=False).astype(str)\n",
    "\n",
    "print(df)\n",
    "print()\n",
    "df.info()"
   ]
  },
  {
   "cell_type": "code",
   "execution_count": 95,
   "id": "c51a75c2",
   "metadata": {},
   "outputs": [],
   "source": [
    "def scrape_table(url: str) -> list:\n",
    "    \"\"\"\n",
    "    Extracts the table from a runnersworld.de table, containing information\n",
    "    about the run. Returns a list of lists. Each inner list corresponds\n",
    "    to a row in the table. E.g a table with 2 rows and 3 cols will yield:\n",
    "    X = [[x11, x12, x13],\n",
    "         [x21, x21, x22]]\n",
    "    \"\"\"\n",
    "    response = requests.get(url)\n",
    "    html = response.content\n",
    "    soup = BeautifulSoup(html)\n",
    "    table = soup.find('table')\n",
    "\n",
    "    list_rows = [] #make list for rows\n",
    "    for row in table.findAll('tr')[1:]:\n",
    "        list_cells = [] #array for row\n",
    "        for cell in row.findAll('td'):\n",
    "            text = cell.text.replace('&nbsp;', '') #replace nonbreaking space\n",
    "            list_cells.append(text)\n",
    "        list_rows.append(list_cells)\n",
    "        \n",
    "    return list_rows"
   ]
  },
  {
   "cell_type": "code",
   "execution_count": 82,
   "id": "f1156f05",
   "metadata": {},
   "outputs": [
    {
     "data": {
      "text/plain": [
       "['https://www.runnersworld.de/laufkalender/altstadtlaufweinheim/',\n",
       " 'https://www.runnersworld.de/laufkalender/lissabonhalbmarathon/',\n",
       " 'https://www.runnersworld.de/laufkalender/seemeilebremerhaven/',\n",
       " 'https://www.runnersworld.de/laufkalender/badischemeilekarlsruhe/',\n",
       " 'https://www.runnersworld.de/laufkalender/20-km-de-lausanne/',\n",
       " 'https://www.runnersworld.de/laufkalender/neheimer-citylauf-arnsberg/',\n",
       " 'https://www.runnersworld.de/laufkalender/wings-for-life-world-run-schweiz/',\n",
       " 'https://www.runnersworld.de/laufkalender/saarbrueckener-city-lauf/',\n",
       " 'https://www.runnersworld.de/laufkalender/lisbon-eco-marathon/',\n",
       " 'https://www.runnersworld.de/laufkalender/wings-for-life-world-run-muenchen/',\n",
       " 'https://www.runnersworld.de/laufkalender/heilbronnertrollingermarathon/',\n",
       " 'https://www.runnersworld.de/laufkalender/duathlon-krailling/',\n",
       " 'https://www.runnersworld.de/laufkalender/rahlstedterwandselaufhamburg/',\n",
       " 'https://www.runnersworld.de/laufkalender/barcelona-marathon/',\n",
       " 'https://www.runnersworld.de/laufkalender/pragmarathon/',\n",
       " 'https://www.runnersworld.de/laufkalender/altstadtlaufgoslar/',\n",
       " 'https://www.runnersworld.de/laufkalender/windhagenmarathon/',\n",
       " 'https://www.runnersworld.de/laufkalender/placentia-half-marathon/',\n",
       " 'https://www.runnersworld.de/laufkalender/triest-halbmarathon/',\n",
       " 'https://www.runnersworld.de/laufkalender/schermbeckervolksundstrassenlauf/',\n",
       " 'https://www.runnersworld.de/laufkalender/stwendelmarathon/',\n",
       " 'https://www.runnersworld.de/laufkalender/bitterfeldergoitzschemarathon/',\n",
       " 'https://www.runnersworld.de/laufkalender/great-breweries-marathon-puurs/',\n",
       " 'https://www.runnersworld.de/laufkalender/gutenbergmarathonmainz/',\n",
       " 'https://www.runnersworld.de/laufkalender/santiago-marathon/',\n",
       " 'https://www.runnersworld.de/laufkalender/i-run-achim/',\n",
       " 'https://www.runnersworld.de/laufkalender/traunsteiner-halbmarathon/',\n",
       " 'https://www.runnersworld.de/laufkalender/niebueller-stadtlauf/',\n",
       " 'https://www.runnersworld.de/laufkalender/muelheimer-firmenlauf/',\n",
       " 'https://www.runnersworld.de/laufkalender/salzburger-frauenlauf/']"
      ]
     },
     "execution_count": 82,
     "metadata": {},
     "output_type": "execute_result"
    }
   ],
   "source": [
    "# extract the links of the runs from https://www.runnersworld.de/volkslaeufe-strassenlaeufe/\n",
    "url = \"https://www.runnersworld.de/volkslaeufe-strassenlaeufe/\"\n",
    "response = requests.get(url)\n",
    "html = response.content\n",
    "soup = BeautifulSoup(html)\n",
    "table = soup.find('table')\n",
    "\n",
    "links = []\n",
    "for link in soup.findAll('a'):\n",
    "    l = link.get('href')\n",
    "    if l is None:\n",
    "        continue\n",
    "    if \"laufkalender\" in l:\n",
    "        # clean\n",
    "        if \"laufeintragen\" in l:\n",
    "            continue\n",
    "        if l == 'https://www.runnersworld.de/laufkalender/':\n",
    "            continue\n",
    "        links.append(l)    \n",
    "links"
   ]
  },
  {
   "cell_type": "code",
   "execution_count": 84,
   "id": "10d57623",
   "metadata": {},
   "outputs": [
    {
     "data": {
      "text/plain": [
       "'https://www.runnersworld.de/laufkalender/salzburger-frauenlauf'"
      ]
     },
     "execution_count": 84,
     "metadata": {},
     "output_type": "execute_result"
    }
   ],
   "source": [
    "# # remove everything after the 5th \"/\"\n",
    "# import re\n",
    "# pattern = \".+\"\n",
    "# test_string = 'https://www.runnersworld.de/laufkalender/salzburger-frauenlauf/'\n",
    "# ls = test_string.split(\"/\")\n",
    "# clean_string = \"/\".join(ls[:5])\n",
    "# clean_string    "
   ]
  },
  {
   "cell_type": "code",
   "execution_count": 96,
   "id": "9fe8ee76",
   "metadata": {},
   "outputs": [],
   "source": [
    "# go through each link and extract information\n",
    "volkslaeufe = {}\n",
    "for url in links:\n",
    "    info = scraper.get_result_similar(url)\n",
    "    tbl = scrape_table(url)\n",
    "    volkslaeufe[url] = [info, tbl]"
   ]
  },
  {
   "cell_type": "code",
   "execution_count": 177,
   "id": "9dc58641",
   "metadata": {},
   "outputs": [],
   "source": [
    "# clean the extracted information\n",
    "def remove_multiple_titles(autoscraper_result):\n",
    "    \"\"\"\n",
    "    Sometimes the title of the run is captured 2 or 3 times in different variations\n",
    "    # example 1:\n",
    "        # 'Bitterfelder Goitzsche-Marathon',\n",
    "        # 'Goitzsche-Marathon Bitterfeld',\n",
    "        # ': Goitzsche-Marathon Bitterfeld',\n",
    "    # example 2\n",
    "        # 'Seemeile Bremerhaven',\n",
    "        # ': Seemeile Bremerhaven',\n",
    "    # example 3\n",
    "        # 'Wings for Life World Run Schweiz',\n",
    "        # ': Wings for Life World Run Schweiz',\n",
    "    # example 4\n",
    "        # 'Heilbronner Trollinger-Marathon',\n",
    "        # ': Heilbronner Trollinger-Marathon'\n",
    "    \"\"\"\n",
    "    x = autoscraper_result\n",
    "    substrings = x[0].split()\n",
    "    for sub in substrings:\n",
    "        if sub in x[2]:\n",
    "            x.pop(2)\n",
    "            x.pop(1)\n",
    "            break\n",
    "        if sub in x[1]:\n",
    "            x.pop(1)\n",
    "            break\n",
    "    return x\n",
    "\n",
    "for key, val in volkslaeufe.items():\n",
    "    autoscraper_result = val[0]\n",
    "    if \"StatischeSeiten\" in autoscraper_result:\n",
    "        autoscraper_result.remove(\"StatischeSeiten\")\n",
    "    volkslaeufe[key][0] = remove_multiple_titles(autoscraper_result)"
   ]
  },
  {
   "cell_type": "code",
   "execution_count": 184,
   "id": "3718bbd5",
   "metadata": {},
   "outputs": [
    {
     "data": {
      "text/plain": [
       "[['Badische Meile Karlsruhe',\n",
       "  'Stadtlauf / Citylauf',\n",
       "  'Volkslauf / Straßenlauf',\n",
       "  '08.05.2022',\n",
       "  '76135 Karlsruhe, Hermann-Veit-Straße 3',\n",
       "  'www.badischemeile.de',\n",
       "  'info@badischemeile.de'],\n",
       " [['8,888 km ', '10.30 Uhr', '22,00 - 25,00 Euro']]]"
      ]
     },
     "execution_count": 184,
     "metadata": {},
     "output_type": "execute_result"
    }
   ],
   "source": [
    "i = np.random.randint(len(volkslaeufe))\n",
    "volkslaeufe[list(volkslaeufe.keys())[i]]"
   ]
  }
 ],
 "metadata": {
  "interpreter": {
   "hash": "916dbcbb3f70747c44a77c7bcd40155683ae19c65e1c03b4aa3499c5328201f1"
  },
  "kernelspec": {
   "display_name": "Python 3.8.10 64-bit",
   "language": "python",
   "name": "python3"
  },
  "language_info": {
   "codemirror_mode": {
    "name": "ipython",
    "version": 3
   },
   "file_extension": ".py",
   "mimetype": "text/x-python",
   "name": "python",
   "nbconvert_exporter": "python",
   "pygments_lexer": "ipython3",
   "version": "3.8.10"
  }
 },
 "nbformat": 4,
 "nbformat_minor": 5
}
